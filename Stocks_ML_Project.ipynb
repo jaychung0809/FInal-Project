{
 "cells": [
  {
   "cell_type": "code",
   "execution_count": 83,
   "metadata": {
    "scrolled": true
   },
   "outputs": [],
   "source": [
    "from alpha_vantage.timeseries import TimeSeries\n",
    "import matplotlib.pyplot as plt\n",
    "plt.style.use('fivethirtyeight')\n",
    "import sklearn as skl\n",
    "from sklearn import preprocessing\n",
    "import numpy as np\n",
    "import tensorflow as tf\n",
    "import pandas as pd\n",
    "from keras.models import Sequential\n",
    "from keras.layers import Dense, LSTM\n",
    "from sklearn.preprocessing import MinMaxScaler\n"
   ]
  },
  {
   "cell_type": "code",
   "execution_count": 84,
   "metadata": {},
   "outputs": [],
   "source": [
    "ticker = 'INX'"
   ]
  },
  {
   "cell_type": "code",
   "execution_count": 85,
   "metadata": {},
   "outputs": [],
   "source": [
    "ts = TimeSeries(key='AJH8MF4OQ465LD6H',output_format='pandas')\n",
    "data, meta_data = ts.get_daily(symbol='INX', outputsize='full')\n"
   ]
  },
  {
   "cell_type": "code",
   "execution_count": 86,
   "metadata": {},
   "outputs": [
    {
     "data": {
      "text/html": [
       "<div>\n",
       "<style scoped>\n",
       "    .dataframe tbody tr th:only-of-type {\n",
       "        vertical-align: middle;\n",
       "    }\n",
       "\n",
       "    .dataframe tbody tr th {\n",
       "        vertical-align: top;\n",
       "    }\n",
       "\n",
       "    .dataframe thead th {\n",
       "        text-align: right;\n",
       "    }\n",
       "</style>\n",
       "<table border=\"1\" class=\"dataframe\">\n",
       "  <thead>\n",
       "    <tr style=\"text-align: right;\">\n",
       "      <th></th>\n",
       "      <th>1. open</th>\n",
       "      <th>2. high</th>\n",
       "      <th>3. low</th>\n",
       "      <th>4. close</th>\n",
       "      <th>5. volume</th>\n",
       "    </tr>\n",
       "    <tr>\n",
       "      <th>date</th>\n",
       "      <th></th>\n",
       "      <th></th>\n",
       "      <th></th>\n",
       "      <th></th>\n",
       "      <th></th>\n",
       "    </tr>\n",
       "  </thead>\n",
       "  <tbody>\n",
       "    <tr>\n",
       "      <th>2000-01-03</th>\n",
       "      <td>1469.2500</td>\n",
       "      <td>1478.0000</td>\n",
       "      <td>1438.3600</td>\n",
       "      <td>1455.2200</td>\n",
       "      <td>9.318000e+08</td>\n",
       "    </tr>\n",
       "    <tr>\n",
       "      <th>2000-01-04</th>\n",
       "      <td>1455.2200</td>\n",
       "      <td>1455.2200</td>\n",
       "      <td>1397.4301</td>\n",
       "      <td>1399.4200</td>\n",
       "      <td>1.009000e+09</td>\n",
       "    </tr>\n",
       "    <tr>\n",
       "      <th>2000-01-05</th>\n",
       "      <td>1399.4200</td>\n",
       "      <td>1413.2700</td>\n",
       "      <td>1377.6801</td>\n",
       "      <td>1402.1100</td>\n",
       "      <td>1.085500e+09</td>\n",
       "    </tr>\n",
       "    <tr>\n",
       "      <th>2000-01-06</th>\n",
       "      <td>1402.1100</td>\n",
       "      <td>1411.9000</td>\n",
       "      <td>1392.1000</td>\n",
       "      <td>1403.4500</td>\n",
       "      <td>1.092300e+09</td>\n",
       "    </tr>\n",
       "    <tr>\n",
       "      <th>2000-01-07</th>\n",
       "      <td>1403.4500</td>\n",
       "      <td>1441.4700</td>\n",
       "      <td>1400.7300</td>\n",
       "      <td>1441.4700</td>\n",
       "      <td>1.225200e+09</td>\n",
       "    </tr>\n",
       "    <tr>\n",
       "      <th>...</th>\n",
       "      <td>...</td>\n",
       "      <td>...</td>\n",
       "      <td>...</td>\n",
       "      <td>...</td>\n",
       "      <td>...</td>\n",
       "    </tr>\n",
       "    <tr>\n",
       "      <th>2020-03-19</th>\n",
       "      <td>2483.1621</td>\n",
       "      <td>2484.9523</td>\n",
       "      <td>2469.0456</td>\n",
       "      <td>2470.9382</td>\n",
       "      <td>2.037970e+05</td>\n",
       "    </tr>\n",
       "    <tr>\n",
       "      <th>2020-03-20</th>\n",
       "      <td>2470.9382</td>\n",
       "      <td>2478.3314</td>\n",
       "      <td>2454.4354</td>\n",
       "      <td>2472.7356</td>\n",
       "      <td>3.250400e+04</td>\n",
       "    </tr>\n",
       "    <tr>\n",
       "      <th>2020-03-23</th>\n",
       "      <td>2472.7356</td>\n",
       "      <td>2480.4663</td>\n",
       "      <td>2463.9532</td>\n",
       "      <td>2465.9066</td>\n",
       "      <td>7.508570e+05</td>\n",
       "    </tr>\n",
       "    <tr>\n",
       "      <th>2020-03-24</th>\n",
       "      <td>2465.9066</td>\n",
       "      <td>2474.1328</td>\n",
       "      <td>2452.2976</td>\n",
       "      <td>2457.7700</td>\n",
       "      <td>9.591090e+05</td>\n",
       "    </tr>\n",
       "    <tr>\n",
       "      <th>2020-03-25</th>\n",
       "      <td>2457.7700</td>\n",
       "      <td>2571.4199</td>\n",
       "      <td>2407.5300</td>\n",
       "      <td>2475.5601</td>\n",
       "      <td>5.862341e+08</td>\n",
       "    </tr>\n",
       "  </tbody>\n",
       "</table>\n",
       "<p>5089 rows × 5 columns</p>\n",
       "</div>"
      ],
      "text/plain": [
       "              1. open    2. high     3. low   4. close     5. volume\n",
       "date                                                                \n",
       "2000-01-03  1469.2500  1478.0000  1438.3600  1455.2200  9.318000e+08\n",
       "2000-01-04  1455.2200  1455.2200  1397.4301  1399.4200  1.009000e+09\n",
       "2000-01-05  1399.4200  1413.2700  1377.6801  1402.1100  1.085500e+09\n",
       "2000-01-06  1402.1100  1411.9000  1392.1000  1403.4500  1.092300e+09\n",
       "2000-01-07  1403.4500  1441.4700  1400.7300  1441.4700  1.225200e+09\n",
       "...               ...        ...        ...        ...           ...\n",
       "2020-03-19  2483.1621  2484.9523  2469.0456  2470.9382  2.037970e+05\n",
       "2020-03-20  2470.9382  2478.3314  2454.4354  2472.7356  3.250400e+04\n",
       "2020-03-23  2472.7356  2480.4663  2463.9532  2465.9066  7.508570e+05\n",
       "2020-03-24  2465.9066  2474.1328  2452.2976  2457.7700  9.591090e+05\n",
       "2020-03-25  2457.7700  2571.4199  2407.5300  2475.5601  5.862341e+08\n",
       "\n",
       "[5089 rows x 5 columns]"
      ]
     },
     "execution_count": 86,
     "metadata": {},
     "output_type": "execute_result"
    }
   ],
   "source": [
    "data = data.sort_values(by = 'date')\n",
    "data"
   ]
  },
  {
   "cell_type": "code",
   "execution_count": 87,
   "metadata": {
    "scrolled": false
   },
   "outputs": [
    {
     "data": {
      "text/plain": [
       "4071"
      ]
     },
     "execution_count": 87,
     "metadata": {},
     "output_type": "execute_result"
    }
   ],
   "source": [
    "#Create a new dataframe for open price\n",
    "data = data.filter(['1. open'])\n",
    "#Convert the dataframe to a numpy array\n",
    "dataset = data.values\n",
    "#Get the number of rows to train the model on\n",
    "training_data_len = int( len(dataset) * .8 )\n",
    "\n",
    "training_data_len"
   ]
  },
  {
   "cell_type": "code",
   "execution_count": 88,
   "metadata": {},
   "outputs": [
    {
     "data": {
      "text/plain": [
       "array([[0.34753743],\n",
       "       [0.34136511],\n",
       "       [0.3168166 ],\n",
       "       ...,\n",
       "       [0.78900839],\n",
       "       [0.78600406],\n",
       "       [0.78242446]])"
      ]
     },
     "execution_count": 88,
     "metadata": {},
     "output_type": "execute_result"
    }
   ],
   "source": [
    "#Scale the data\n",
    "scaler = MinMaxScaler(feature_range=(0,1))\n",
    "scaled_data = scaler.fit_transform(dataset)\n",
    "\n",
    "scaled_data"
   ]
  },
  {
   "cell_type": "code",
   "execution_count": 6,
   "metadata": {},
   "outputs": [],
   "source": [
    "#Create and scale the training data set\n",
    "train_data = scaled_data[0:training_data_len , :]\n",
    "#Split the data into x_train and y_train data sets\n",
    "X_train = []\n",
    "y_train = []\n",
    "\n",
    "for i in range(50, len(train_data)):\n",
    "  X_train.append(train_data[i-50:i, 0])\n",
    "  y_train.append(train_data[i, 0])"
   ]
  },
  {
   "cell_type": "code",
   "execution_count": 7,
   "metadata": {},
   "outputs": [
    {
     "data": {
      "text/plain": [
       "array([[0.29245475],\n",
       "       [0.28726071],\n",
       "       [0.26660299],\n",
       "       ...,\n",
       "       [0.48028077],\n",
       "       [0.48361266],\n",
       "       [0.48672612]])"
      ]
     },
     "execution_count": 7,
     "metadata": {},
     "output_type": "execute_result"
    }
   ],
   "source": [
    "train_data"
   ]
  },
  {
   "cell_type": "code",
   "execution_count": 8,
   "metadata": {},
   "outputs": [],
   "source": [
    "#Convert the train data to numpy arrays \n",
    "X_train, y_train = np.array(X_train), np.array(y_train)"
   ]
  },
  {
   "cell_type": "code",
   "execution_count": 9,
   "metadata": {},
   "outputs": [
    {
     "data": {
      "text/plain": [
       "(4018, 50, 1)"
      ]
     },
     "execution_count": 9,
     "metadata": {},
     "output_type": "execute_result"
    }
   ],
   "source": [
    "#Reshape to 3D from 2D to fit into LSTM model\n",
    "X_train = np.reshape(X_train, (X_train.shape[0], X_train.shape[1], 1))\n",
    "X_train.shape"
   ]
  },
  {
   "cell_type": "code",
   "execution_count": 10,
   "metadata": {},
   "outputs": [],
   "source": [
    "#Define Model\n",
    "model = Sequential()\n",
    "\n",
    "#input later\n",
    "model.add(LSTM(15, return_sequences=True, input_shape= (X_train.shape[1], 1)))\n",
    "\n",
    "#second layer\n",
    "model.add(LSTM(10, return_sequences= False))\n",
    "\n",
    "#third\n",
    "model.add(Dense(5))\n",
    "\n",
    "#Output\n",
    "model.add(Dense(1))\n",
    "\n",
    "\n",
    "#Compile the model\n",
    "model.compile(optimizer='adam', loss='mean_squared_error')"
   ]
  },
  {
   "cell_type": "code",
   "execution_count": 11,
   "metadata": {},
   "outputs": [
    {
     "name": "stdout",
     "output_type": "stream",
     "text": [
      "Epoch 1/1\n",
      "4018/4018 [==============================] - 313s 78ms/step - loss: 4.5850e-04\n"
     ]
    },
    {
     "data": {
      "text/plain": [
       "<keras.callbacks.callbacks.History at 0x7fcca9033f90>"
      ]
     },
     "execution_count": 11,
     "metadata": {},
     "output_type": "execute_result"
    }
   ],
   "source": [
    "\n",
    "#Train the model\n",
    "model.fit(X_train, y_train, batch_size=1, epochs=1)"
   ]
  },
  {
   "cell_type": "code",
   "execution_count": 50,
   "metadata": {},
   "outputs": [],
   "source": [
    "#Test the model\n",
    "test_data = scaled_data[training_data_len - 50: , :]\n",
    "#Create the data sets x_test and y_test\n",
    "X_test = []\n",
    "y_test = dataset[training_data_len:, :]\n",
    "for i in range(50, len(test_data)):\n",
    "  X_test.append(test_data[i-50:i, 0])\n",
    "#Convert the data to a numpy array\n",
    "X_test = np.array(X_test)\n",
    "#Reshape the data\n",
    "X_test = np.reshape(X_test, (X_test.shape[0], X_test.shape[1], 1 ))"
   ]
  },
  {
   "cell_type": "code",
   "execution_count": 51,
   "metadata": {
    "scrolled": false
   },
   "outputs": [],
   "source": [
    "#Get the models predicted price values \n",
    "predictions = model.predict(X_test)\n",
    "predictions = scaler.inverse_transform(predictions)\n"
   ]
  },
  {
   "cell_type": "code",
   "execution_count": 68,
   "metadata": {},
   "outputs": [],
   "source": [
    "# we added this -1, to grab just the \"last day\" 5031; because we only want one predicted 5032nd day's open price\n",
    "concatenated_prices = X_test[-1:, :, :]\n",
    "next_day_prediction = model.predict(concatenated_prices)\n",
    "how_many_days_in_the_future = 7\n",
    "prediction_for_days_in_future = []# next_day_prediction[0][0]]\n",
    "for i in range(how_many_days_in_the_future):\n",
    "    concatenated_prices = np.concatenate([\n",
    "        #------------------------------v we slice *off* the 50 days ago value; so we only have 49 days of data;\n",
    "        concatenated_prices[-1:, 1:, :], \n",
    "        # Add in the new predicted value\n",
    "        np.expand_dims(next_day_prediction, -1)\n",
    "    ], axis=1)\n",
    "    # Therefore we can predict last day\n",
    "    next_day_prediction = model.predict(concatenated_prices)\n",
    "    #Appending onto the list (1D) the [0][0]th value of a 2D array; so we have a list of predicted values in the future\n",
    "    prediction_for_days_in_future.append(next_day_prediction[0][0])\n",
    "# inverse_transform them \n",
    "week_prediction = scaler.inverse_transform(np.expand_dims(prediction_for_days_in_future, -1))"
   ]
  },
  {
   "cell_type": "code",
   "execution_count": 69,
   "metadata": {},
   "outputs": [
    {
     "data": {
      "text/html": [
       "<div>\n",
       "<style scoped>\n",
       "    .dataframe tbody tr th:only-of-type {\n",
       "        vertical-align: middle;\n",
       "    }\n",
       "\n",
       "    .dataframe tbody tr th {\n",
       "        vertical-align: top;\n",
       "    }\n",
       "\n",
       "    .dataframe thead th {\n",
       "        text-align: right;\n",
       "    }\n",
       "</style>\n",
       "<table border=\"1\" class=\"dataframe\">\n",
       "  <thead>\n",
       "    <tr style=\"text-align: right;\">\n",
       "      <th></th>\n",
       "      <th>One week of Predicted Prices</th>\n",
       "    </tr>\n",
       "  </thead>\n",
       "  <tbody>\n",
       "    <tr>\n",
       "      <th>0</th>\n",
       "      <td>2598.992920</td>\n",
       "    </tr>\n",
       "    <tr>\n",
       "      <th>1</th>\n",
       "      <td>2580.958008</td>\n",
       "    </tr>\n",
       "    <tr>\n",
       "      <th>2</th>\n",
       "      <td>2567.802246</td>\n",
       "    </tr>\n",
       "    <tr>\n",
       "      <th>3</th>\n",
       "      <td>2557.883545</td>\n",
       "    </tr>\n",
       "    <tr>\n",
       "      <th>4</th>\n",
       "      <td>2550.127197</td>\n",
       "    </tr>\n",
       "    <tr>\n",
       "      <th>5</th>\n",
       "      <td>2543.830811</td>\n",
       "    </tr>\n",
       "    <tr>\n",
       "      <th>6</th>\n",
       "      <td>2538.532227</td>\n",
       "    </tr>\n",
       "  </tbody>\n",
       "</table>\n",
       "</div>"
      ],
      "text/plain": [
       "   One week of Predicted Prices\n",
       "0                   2598.992920\n",
       "1                   2580.958008\n",
       "2                   2567.802246\n",
       "3                   2557.883545\n",
       "4                   2550.127197\n",
       "5                   2543.830811\n",
       "6                   2538.532227"
      ]
     },
     "execution_count": 69,
     "metadata": {},
     "output_type": "execute_result"
    }
   ],
   "source": [
    "week_prediction = pd.DataFrame(week_prediction,columns=['One week of Predicted Prices'])"
   ]
  },
  {
   "cell_type": "code",
   "execution_count": 60,
   "metadata": {},
   "outputs": [
    {
     "name": "stderr",
     "output_type": "stream",
     "text": [
      "/Users/jaychung/opt/anaconda3/envs/PythonData/lib/python3.7/site-packages/ipykernel_launcher.py:4: SettingWithCopyWarning: \n",
      "A value is trying to be set on a copy of a slice from a DataFrame.\n",
      "Try using .loc[row_indexer,col_indexer] = value instead\n",
      "\n",
      "See the caveats in the documentation: https://pandas.pydata.org/pandas-docs/stable/user_guide/indexing.html#returning-a-view-versus-a-copy\n",
      "  after removing the cwd from sys.path.\n"
     ]
    },
    {
     "data": {
      "image/png": "[encoded data removed]",
      "text/plain": [
       "<Figure size 1152x576 with 1 Axes>"
      ]
     },
     "metadata": {},
     "output_type": "display_data"
    }
   ],
   "source": [
    "#Plot the data\n",
    "train = data[:training_data_len]\n",
    "tested = data[training_data_len:]\n",
    "tested['Predictions'] = predictions\n",
    "#Visualize the data\n",
    "plt.figure(figsize=(16,8))\n",
    "plt.title('Model')\n",
    "plt.xlabel('Date', fontsize=18)\n",
    "plt.ylabel('Open Price USD ($)', fontsize=18)\n",
    "plt.plot(train['1. open'])\n",
    "plt.plot(tested[['1. open', 'Predictions']])\n",
    "plt.legend(['Train', 'Tested', 'Predictions'], loc='lower right')\n",
    "plt.show()"
   ]
  },
  {
   "cell_type": "code",
   "execution_count": 91,
   "metadata": {},
   "outputs": [],
   "source": [
    "pd.DataFrame(data).to_csv('actual_INX.csv')\n",
    "pd.DataFrame(predictions).to_csv('predicted_INX.csv')\n",
    "pd.DataFrame(week_prediction).to_csv('future_INX.csv')"
   ]
  },
  {
   "cell_type": "code",
   "execution_count": null,
   "metadata": {},
   "outputs": [],
   "source": []
  }
 ],
 "metadata": {
  "kernelspec": {
   "display_name": "PythonData",
   "language": "python",
   "name": "pythondata"
  },
  "language_info": {
   "codemirror_mode": {
    "name": "ipython",
    "version": 3
   },
   "file_extension": ".py",
   "mimetype": "text/x-python",
   "name": "python",
   "nbconvert_exporter": "python",
   "pygments_lexer": "ipython3",
   "version": "3.7.6"
  }
 },
 "nbformat": 4,
 "nbformat_minor": 2
}
