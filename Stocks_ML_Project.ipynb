{
 "cells": [
  {
   "cell_type": "code",
   "execution_count": 42,
   "metadata": {},
   "outputs": [],
   "source": [
    "from alpha_vantage.timeseries import TimeSeries\n",
    "import matplotlib.pyplot as plt\n",
    "plt.style.use('fivethirtyeight')\n",
    "import sklearn as skl\n",
    "from sklearn import preprocessing\n",
    "import numpy as np\n",
    "import tensorflow as tf\n",
    "import pandas as pd\n",
    "from keras.models import Sequential\n",
    "from keras.layers import Dense, LSTM\n",
    "from sklearn.preprocessing import MinMaxScaler\n"
   ]
  },
  {
   "cell_type": "code",
   "execution_count": 43,
   "metadata": {},
   "outputs": [],
   "source": [
    "ts = TimeSeries(key='AJH8MF4OQ465LD6H',output_format='pandas')\n",
    "data, meta_data = ts.get_daily(symbol='INX', outputsize='full')\n"
   ]
  },
  {
   "cell_type": "code",
   "execution_count": 45,
   "metadata": {},
   "outputs": [
    {
     "data": {
      "text/html": [
       "<div>\n",
       "<style scoped>\n",
       "    .dataframe tbody tr th:only-of-type {\n",
       "        vertical-align: middle;\n",
       "    }\n",
       "\n",
       "    .dataframe tbody tr th {\n",
       "        vertical-align: top;\n",
       "    }\n",
       "\n",
       "    .dataframe thead th {\n",
       "        text-align: right;\n",
       "    }\n",
       "</style>\n",
       "<table border=\"1\" class=\"dataframe\">\n",
       "  <thead>\n",
       "    <tr style=\"text-align: right;\">\n",
       "      <th></th>\n",
       "      <th>1. open</th>\n",
       "      <th>2. high</th>\n",
       "      <th>3. low</th>\n",
       "      <th>4. close</th>\n",
       "      <th>5. volume</th>\n",
       "    </tr>\n",
       "    <tr>\n",
       "      <th>date</th>\n",
       "      <th></th>\n",
       "      <th></th>\n",
       "      <th></th>\n",
       "      <th></th>\n",
       "      <th></th>\n",
       "    </tr>\n",
       "  </thead>\n",
       "  <tbody>\n",
       "    <tr>\n",
       "      <th>2000-01-03</th>\n",
       "      <td>1469.2500</td>\n",
       "      <td>1478.0000</td>\n",
       "      <td>1438.3600</td>\n",
       "      <td>1455.2200</td>\n",
       "      <td>9.318000e+08</td>\n",
       "    </tr>\n",
       "    <tr>\n",
       "      <th>2000-01-04</th>\n",
       "      <td>1455.2200</td>\n",
       "      <td>1455.2200</td>\n",
       "      <td>1397.4301</td>\n",
       "      <td>1399.4200</td>\n",
       "      <td>1.009000e+09</td>\n",
       "    </tr>\n",
       "    <tr>\n",
       "      <th>2000-01-05</th>\n",
       "      <td>1399.4200</td>\n",
       "      <td>1413.2700</td>\n",
       "      <td>1377.6801</td>\n",
       "      <td>1402.1100</td>\n",
       "      <td>1.085500e+09</td>\n",
       "    </tr>\n",
       "    <tr>\n",
       "      <th>2000-01-06</th>\n",
       "      <td>1402.1100</td>\n",
       "      <td>1411.9000</td>\n",
       "      <td>1392.1000</td>\n",
       "      <td>1403.4500</td>\n",
       "      <td>1.092300e+09</td>\n",
       "    </tr>\n",
       "    <tr>\n",
       "      <th>2000-01-07</th>\n",
       "      <td>1403.4500</td>\n",
       "      <td>1441.4700</td>\n",
       "      <td>1400.7300</td>\n",
       "      <td>1441.4700</td>\n",
       "      <td>1.225200e+09</td>\n",
       "    </tr>\n",
       "    <tr>\n",
       "      <th>...</th>\n",
       "      <td>...</td>\n",
       "      <td>...</td>\n",
       "      <td>...</td>\n",
       "      <td>...</td>\n",
       "      <td>...</td>\n",
       "    </tr>\n",
       "    <tr>\n",
       "      <th>2020-03-09</th>\n",
       "      <td>2863.8899</td>\n",
       "      <td>2863.8899</td>\n",
       "      <td>2734.4299</td>\n",
       "      <td>2746.5601</td>\n",
       "      <td>8.423050e+09</td>\n",
       "    </tr>\n",
       "    <tr>\n",
       "      <th>2020-03-10</th>\n",
       "      <td>2813.4800</td>\n",
       "      <td>2882.5901</td>\n",
       "      <td>2734.0000</td>\n",
       "      <td>2882.2300</td>\n",
       "      <td>7.635960e+09</td>\n",
       "    </tr>\n",
       "    <tr>\n",
       "      <th>2020-03-11</th>\n",
       "      <td>2825.6001</td>\n",
       "      <td>2825.6001</td>\n",
       "      <td>2707.2200</td>\n",
       "      <td>2741.3799</td>\n",
       "      <td>7.374110e+09</td>\n",
       "    </tr>\n",
       "    <tr>\n",
       "      <th>2020-03-12</th>\n",
       "      <td>2630.8601</td>\n",
       "      <td>2660.9500</td>\n",
       "      <td>2478.8601</td>\n",
       "      <td>2480.6399</td>\n",
       "      <td>8.829380e+09</td>\n",
       "    </tr>\n",
       "    <tr>\n",
       "      <th>2020-03-13</th>\n",
       "      <td>2569.9900</td>\n",
       "      <td>2711.3301</td>\n",
       "      <td>2492.3701</td>\n",
       "      <td>2711.0200</td>\n",
       "      <td>8.258670e+09</td>\n",
       "    </tr>\n",
       "  </tbody>\n",
       "</table>\n",
       "<p>5081 rows × 5 columns</p>\n",
       "</div>"
      ],
      "text/plain": [
       "              1. open    2. high     3. low   4. close     5. volume\n",
       "date                                                                \n",
       "2000-01-03  1469.2500  1478.0000  1438.3600  1455.2200  9.318000e+08\n",
       "2000-01-04  1455.2200  1455.2200  1397.4301  1399.4200  1.009000e+09\n",
       "2000-01-05  1399.4200  1413.2700  1377.6801  1402.1100  1.085500e+09\n",
       "2000-01-06  1402.1100  1411.9000  1392.1000  1403.4500  1.092300e+09\n",
       "2000-01-07  1403.4500  1441.4700  1400.7300  1441.4700  1.225200e+09\n",
       "...               ...        ...        ...        ...           ...\n",
       "2020-03-09  2863.8899  2863.8899  2734.4299  2746.5601  8.423050e+09\n",
       "2020-03-10  2813.4800  2882.5901  2734.0000  2882.2300  7.635960e+09\n",
       "2020-03-11  2825.6001  2825.6001  2707.2200  2741.3799  7.374110e+09\n",
       "2020-03-12  2630.8601  2660.9500  2478.8601  2480.6399  8.829380e+09\n",
       "2020-03-13  2569.9900  2711.3301  2492.3701  2711.0200  8.258670e+09\n",
       "\n",
       "[5081 rows x 5 columns]"
      ]
     },
     "execution_count": 45,
     "metadata": {},
     "output_type": "execute_result"
    }
   ],
   "source": [
    "data = data.sort_values(by = 'date')\n",
    "data"
   ]
  },
  {
   "cell_type": "code",
   "execution_count": 46,
   "metadata": {
    "scrolled": false
   },
   "outputs": [
    {
     "data": {
      "text/plain": [
       "4064"
      ]
     },
     "execution_count": 46,
     "metadata": {},
     "output_type": "execute_result"
    }
   ],
   "source": [
    "#Create a new dataframe for open price\n",
    "data = data.filter(['1. open'])\n",
    "#Convert the dataframe to a numpy array\n",
    "dataset = data.values\n",
    "#Get the number of rows to train the model on\n",
    "training_data_len = int( len(dataset) * .8 )\n",
    "\n",
    "training_data_len"
   ]
  },
  {
   "cell_type": "code",
   "execution_count": 47,
   "metadata": {},
   "outputs": [
    {
     "data": {
      "text/plain": [
       "array([[0.29245475],\n",
       "       [0.28726071],\n",
       "       [0.26660299],\n",
       "       ...,\n",
       "       [0.79458905],\n",
       "       [0.72249436],\n",
       "       [0.69995965]])"
      ]
     },
     "execution_count": 47,
     "metadata": {},
     "output_type": "execute_result"
    }
   ],
   "source": [
    "#Scale the data\n",
    "scaler = MinMaxScaler(feature_range=(0,1))\n",
    "scaled_data = scaler.fit_transform(dataset)\n",
    "\n",
    "scaled_data"
   ]
  },
  {
   "cell_type": "code",
   "execution_count": 48,
   "metadata": {},
   "outputs": [],
   "source": [
    "#Create and scale the training data set\n",
    "train_data = scaled_data[0:training_data_len , :]\n",
    "#Split the data into x_train and y_train data sets\n",
    "X_train = []\n",
    "y_train = []\n",
    "\n",
    "for i in range(100, len(train_data)):\n",
    "  X_train.append(train_data[i-100:i, 0])\n",
    "  y_train.append(train_data[i, 0])"
   ]
  },
  {
   "cell_type": "code",
   "execution_count": 49,
   "metadata": {},
   "outputs": [
    {
     "data": {
      "text/plain": [
       "array([[0.29245475],\n",
       "       [0.28726071],\n",
       "       [0.26660299],\n",
       "       ...,\n",
       "       [0.46372128],\n",
       "       [0.47226572],\n",
       "       [0.46937068]])"
      ]
     },
     "execution_count": 49,
     "metadata": {},
     "output_type": "execute_result"
    }
   ],
   "source": [
    "train_data"
   ]
  },
  {
   "cell_type": "code",
   "execution_count": 50,
   "metadata": {},
   "outputs": [],
   "source": [
    "#Convert the train data to numpy arrays \n",
    "X_train, y_train = np.array(X_train), np.array(y_train)"
   ]
  },
  {
   "cell_type": "code",
   "execution_count": 51,
   "metadata": {},
   "outputs": [
    {
     "data": {
      "text/plain": [
       "(3964, 100, 1)"
      ]
     },
     "execution_count": 51,
     "metadata": {},
     "output_type": "execute_result"
    }
   ],
   "source": [
    "#Reshape to 3D from 2D to fit into LSTM model\n",
    "X_train = np.reshape(X_train, (X_train.shape[0], X_train.shape[1], 1))\n",
    "X_train.shape"
   ]
  },
  {
   "cell_type": "code",
   "execution_count": 9,
   "metadata": {},
   "outputs": [],
   "source": [
    "#Define Model\n",
    "model = Sequential()\n",
    "\n",
    "#input later\n",
    "model.add(LSTM(100, return_sequences=True, input_shape= (X_train.shape[1], 1)))\n",
    "\n",
    "#second layer\n",
    "model.add(LSTM(50, return_sequences= False))\n",
    "\n",
    "#third\n",
    "model.add(Dense(25))\n",
    "\n",
    "#Output\n",
    "model.add(Dense(1))\n",
    "\n",
    "\n",
    "#Compile the model\n",
    "model.compile(optimizer='adam', loss='mean_squared_error')"
   ]
  },
  {
   "cell_type": "code",
   "execution_count": 10,
   "metadata": {},
   "outputs": [
    {
     "name": "stdout",
     "output_type": "stream",
     "text": [
      "Epoch 1/1\n",
      "3964/3964 [==============================] - 1350s 341ms/step - loss: 4.9634e-04\n"
     ]
    },
    {
     "data": {
      "text/plain": [
       "<keras.callbacks.callbacks.History at 0x7f97192ddbd0>"
      ]
     },
     "execution_count": 10,
     "metadata": {},
     "output_type": "execute_result"
    }
   ],
   "source": [
    "\n",
    "#Train the model\n",
    "model.fit(X_train, y_train, batch_size=1, epochs=1)"
   ]
  },
  {
   "cell_type": "code",
   "execution_count": 58,
   "metadata": {},
   "outputs": [],
   "source": [
    "#Test the model\n",
    "test_data = scaled_data[training_data_len - 100: , :]\n",
    "#Create the data sets x_test and y_test\n",
    "X_test = []\n",
    "y_test = dataset[training_data_len:, :]\n",
    "for i in range(100, len(test_data)):\n",
    "  X_test.append(test_data[i-100:i, 0])"
   ]
  },
  {
   "cell_type": "code",
   "execution_count": 59,
   "metadata": {},
   "outputs": [],
   "source": [
    "#Convert the data to a numpy array\n",
    "X_test = np.array(X_test)"
   ]
  },
  {
   "cell_type": "code",
   "execution_count": 60,
   "metadata": {},
   "outputs": [],
   "source": [
    "#Reshape the data\n",
    "X_test = np.reshape(X_test, (X_test.shape[0], X_test.shape[1], 1 ))"
   ]
  },
  {
   "cell_type": "code",
   "execution_count": 61,
   "metadata": {},
   "outputs": [],
   "source": [
    "#Get the models predicted price values \n",
    "predictions = model.predict(X_test)\n",
    "predictions = scaler.inverse_transform(predictions)\n"
   ]
  },
  {
   "cell_type": "code",
   "execution_count": 63,
   "metadata": {},
   "outputs": [
    {
     "name": "stderr",
     "output_type": "stream",
     "text": [
      "/Users/jaychung/opt/anaconda3/envs/PythonData/lib/python3.7/site-packages/ipykernel_launcher.py:4: SettingWithCopyWarning: \n",
      "A value is trying to be set on a copy of a slice from a DataFrame.\n",
      "Try using .loc[row_indexer,col_indexer] = value instead\n",
      "\n",
      "See the caveats in the documentation: https://pandas.pydata.org/pandas-docs/stable/user_guide/indexing.html#returning-a-view-versus-a-copy\n",
      "  after removing the cwd from sys.path.\n"
     ]
    },
    {
     "data": {
      "image/png": "[encoded data removed]",
      "text/plain": [
       "<Figure size 1152x576 with 1 Axes>"
      ]
     },
     "metadata": {},
     "output_type": "display_data"
    }
   ],
   "source": [
    "#Plot the data\n",
    "train = data[:training_data_len]\n",
    "tested = data[training_data_len:]\n",
    "tested['Predictions'] = predictions\n",
    "#Visualize the data\n",
    "plt.figure(figsize=(16,8))\n",
    "plt.title('Model')\n",
    "plt.xlabel('Date', fontsize=18)\n",
    "plt.ylabel('Open Price USD ($)', fontsize=18)\n",
    "plt.plot(train['1. open'])\n",
    "plt.plot(tested[['1. open', 'Predictions']])\n",
    "plt.legend(['Train', 'Tested', 'Predictions'], loc='lower right')\n",
    "plt.show()"
   ]
  },
  {
   "cell_type": "code",
   "execution_count": 64,
   "metadata": {},
   "outputs": [
    {
     "data": {
      "text/html": [
       "<div>\n",
       "<style scoped>\n",
       "    .dataframe tbody tr th:only-of-type {\n",
       "        vertical-align: middle;\n",
       "    }\n",
       "\n",
       "    .dataframe tbody tr th {\n",
       "        vertical-align: top;\n",
       "    }\n",
       "\n",
       "    .dataframe thead th {\n",
       "        text-align: right;\n",
       "    }\n",
       "</style>\n",
       "<table border=\"1\" class=\"dataframe\">\n",
       "  <thead>\n",
       "    <tr style=\"text-align: right;\">\n",
       "      <th></th>\n",
       "      <th>1. open</th>\n",
       "      <th>Predictions</th>\n",
       "    </tr>\n",
       "    <tr>\n",
       "      <th>date</th>\n",
       "      <th></th>\n",
       "      <th></th>\n",
       "    </tr>\n",
       "  </thead>\n",
       "  <tbody>\n",
       "    <tr>\n",
       "      <th>2016-03-01</th>\n",
       "      <td>1937.0900</td>\n",
       "      <td>1881.592529</td>\n",
       "    </tr>\n",
       "    <tr>\n",
       "      <th>2016-03-02</th>\n",
       "      <td>1976.6000</td>\n",
       "      <td>1881.731567</td>\n",
       "    </tr>\n",
       "    <tr>\n",
       "      <th>2016-03-03</th>\n",
       "      <td>1985.6000</td>\n",
       "      <td>1889.384399</td>\n",
       "    </tr>\n",
       "    <tr>\n",
       "      <th>2016-03-04</th>\n",
       "      <td>1994.0100</td>\n",
       "      <td>1900.355103</td>\n",
       "    </tr>\n",
       "    <tr>\n",
       "      <th>2016-03-07</th>\n",
       "      <td>1996.1100</td>\n",
       "      <td>1912.141357</td>\n",
       "    </tr>\n",
       "    <tr>\n",
       "      <th>...</th>\n",
       "      <td>...</td>\n",
       "      <td>...</td>\n",
       "    </tr>\n",
       "    <tr>\n",
       "      <th>2020-03-09</th>\n",
       "      <td>2863.8899</td>\n",
       "      <td>2999.099854</td>\n",
       "    </tr>\n",
       "    <tr>\n",
       "      <th>2020-03-10</th>\n",
       "      <td>2813.4800</td>\n",
       "      <td>2956.851807</td>\n",
       "    </tr>\n",
       "    <tr>\n",
       "      <th>2020-03-11</th>\n",
       "      <td>2825.6001</td>\n",
       "      <td>2900.676025</td>\n",
       "    </tr>\n",
       "    <tr>\n",
       "      <th>2020-03-12</th>\n",
       "      <td>2630.8601</td>\n",
       "      <td>2855.658203</td>\n",
       "    </tr>\n",
       "    <tr>\n",
       "      <th>2020-03-13</th>\n",
       "      <td>2569.9900</td>\n",
       "      <td>2778.973389</td>\n",
       "    </tr>\n",
       "  </tbody>\n",
       "</table>\n",
       "<p>1017 rows × 2 columns</p>\n",
       "</div>"
      ],
      "text/plain": [
       "              1. open  Predictions\n",
       "date                              \n",
       "2016-03-01  1937.0900  1881.592529\n",
       "2016-03-02  1976.6000  1881.731567\n",
       "2016-03-03  1985.6000  1889.384399\n",
       "2016-03-04  1994.0100  1900.355103\n",
       "2016-03-07  1996.1100  1912.141357\n",
       "...               ...          ...\n",
       "2020-03-09  2863.8899  2999.099854\n",
       "2020-03-10  2813.4800  2956.851807\n",
       "2020-03-11  2825.6001  2900.676025\n",
       "2020-03-12  2630.8601  2855.658203\n",
       "2020-03-13  2569.9900  2778.973389\n",
       "\n",
       "[1017 rows x 2 columns]"
      ]
     },
     "execution_count": 64,
     "metadata": {},
     "output_type": "execute_result"
    }
   ],
   "source": [
    "tested"
   ]
  },
  {
   "cell_type": "code",
   "execution_count": null,
   "metadata": {},
   "outputs": [],
   "source": []
  }
 ],
 "metadata": {
  "kernelspec": {
   "display_name": "PythonData",
   "language": "python",
   "name": "pythondata"
  },
  "language_info": {
   "codemirror_mode": {
    "name": "ipython",
    "version": 3
   },
   "file_extension": ".py",
   "mimetype": "text/x-python",
   "name": "python",
   "nbconvert_exporter": "python",
   "pygments_lexer": "ipython3",
   "version": "3.7.6"
  }
 },
 "nbformat": 4,
 "nbformat_minor": 2
}
