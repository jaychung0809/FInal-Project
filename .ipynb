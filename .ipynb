{
 "cells": [
  {
   "cell_type": "code",
   "execution_count": 298,
   "metadata": {},
   "outputs": [],
   "source": [
    "from alpha_vantage.timeseries import TimeSeries\n",
    "import matplotlib.pyplot as plt\n",
    "import sklearn as skl\n",
    "from sklearn import preprocessing\n",
    "import numpy as np\n",
    "import tensorflow as tf\n",
    "import pandas as pd\n"
   ]
  },
  {
   "cell_type": "code",
   "execution_count": 323,
   "metadata": {},
   "outputs": [],
   "source": [
    "ts = TimeSeries(key='AJH8MF4OQ465LD6H',output_format='pandas')\n",
    "data, meta_data = ts.get_daily(symbol='INX', outputsize='full')\n"
   ]
  },
  {
   "cell_type": "code",
   "execution_count": 324,
   "metadata": {},
   "outputs": [
    {
     "data": {
      "text/html": [
       "<div>\n",
       "<style scoped>\n",
       "    .dataframe tbody tr th:only-of-type {\n",
       "        vertical-align: middle;\n",
       "    }\n",
       "\n",
       "    .dataframe tbody tr th {\n",
       "        vertical-align: top;\n",
       "    }\n",
       "\n",
       "    .dataframe thead th {\n",
       "        text-align: right;\n",
       "    }\n",
       "</style>\n",
       "<table border=\"1\" class=\"dataframe\">\n",
       "  <thead>\n",
       "    <tr style=\"text-align: right;\">\n",
       "      <th></th>\n",
       "      <th>1. open</th>\n",
       "      <th>2. high</th>\n",
       "      <th>3. low</th>\n",
       "      <th>4. close</th>\n",
       "      <th>5. volume</th>\n",
       "    </tr>\n",
       "    <tr>\n",
       "      <th>date</th>\n",
       "      <th></th>\n",
       "      <th></th>\n",
       "      <th></th>\n",
       "      <th></th>\n",
       "      <th></th>\n",
       "    </tr>\n",
       "  </thead>\n",
       "  <tbody>\n",
       "    <tr>\n",
       "      <th>2020-03-12</th>\n",
       "      <td>2630.8601</td>\n",
       "      <td>2660.9500</td>\n",
       "      <td>2478.8601</td>\n",
       "      <td>2480.6399</td>\n",
       "      <td>8.829380e+09</td>\n",
       "    </tr>\n",
       "    <tr>\n",
       "      <th>2020-03-11</th>\n",
       "      <td>2825.6001</td>\n",
       "      <td>2825.6001</td>\n",
       "      <td>2707.2200</td>\n",
       "      <td>2741.3799</td>\n",
       "      <td>7.374110e+09</td>\n",
       "    </tr>\n",
       "    <tr>\n",
       "      <th>2020-03-10</th>\n",
       "      <td>2813.4800</td>\n",
       "      <td>2882.5901</td>\n",
       "      <td>2734.0000</td>\n",
       "      <td>2882.2300</td>\n",
       "      <td>7.635960e+09</td>\n",
       "    </tr>\n",
       "    <tr>\n",
       "      <th>2020-03-09</th>\n",
       "      <td>2863.8899</td>\n",
       "      <td>2863.8899</td>\n",
       "      <td>2734.4299</td>\n",
       "      <td>2746.5601</td>\n",
       "      <td>8.423050e+09</td>\n",
       "    </tr>\n",
       "    <tr>\n",
       "      <th>2020-03-06</th>\n",
       "      <td>2954.2000</td>\n",
       "      <td>2985.9299</td>\n",
       "      <td>2901.5400</td>\n",
       "      <td>2972.3701</td>\n",
       "      <td>6.552140e+09</td>\n",
       "    </tr>\n",
       "    <tr>\n",
       "      <th>...</th>\n",
       "      <td>...</td>\n",
       "      <td>...</td>\n",
       "      <td>...</td>\n",
       "      <td>...</td>\n",
       "      <td>...</td>\n",
       "    </tr>\n",
       "    <tr>\n",
       "      <th>2000-01-07</th>\n",
       "      <td>1403.4500</td>\n",
       "      <td>1441.4700</td>\n",
       "      <td>1400.7300</td>\n",
       "      <td>1441.4700</td>\n",
       "      <td>1.225200e+09</td>\n",
       "    </tr>\n",
       "    <tr>\n",
       "      <th>2000-01-06</th>\n",
       "      <td>1402.1100</td>\n",
       "      <td>1411.9000</td>\n",
       "      <td>1392.1000</td>\n",
       "      <td>1403.4500</td>\n",
       "      <td>1.092300e+09</td>\n",
       "    </tr>\n",
       "    <tr>\n",
       "      <th>2000-01-05</th>\n",
       "      <td>1399.4200</td>\n",
       "      <td>1413.2700</td>\n",
       "      <td>1377.6801</td>\n",
       "      <td>1402.1100</td>\n",
       "      <td>1.085500e+09</td>\n",
       "    </tr>\n",
       "    <tr>\n",
       "      <th>2000-01-04</th>\n",
       "      <td>1455.2200</td>\n",
       "      <td>1455.2200</td>\n",
       "      <td>1397.4301</td>\n",
       "      <td>1399.4200</td>\n",
       "      <td>1.009000e+09</td>\n",
       "    </tr>\n",
       "    <tr>\n",
       "      <th>2000-01-03</th>\n",
       "      <td>1469.2500</td>\n",
       "      <td>1478.0000</td>\n",
       "      <td>1438.3600</td>\n",
       "      <td>1455.2200</td>\n",
       "      <td>9.318000e+08</td>\n",
       "    </tr>\n",
       "  </tbody>\n",
       "</table>\n",
       "<p>5080 rows × 5 columns</p>\n",
       "</div>"
      ],
      "text/plain": [
       "              1. open    2. high     3. low   4. close     5. volume\n",
       "date                                                                \n",
       "2020-03-12  2630.8601  2660.9500  2478.8601  2480.6399  8.829380e+09\n",
       "2020-03-11  2825.6001  2825.6001  2707.2200  2741.3799  7.374110e+09\n",
       "2020-03-10  2813.4800  2882.5901  2734.0000  2882.2300  7.635960e+09\n",
       "2020-03-09  2863.8899  2863.8899  2734.4299  2746.5601  8.423050e+09\n",
       "2020-03-06  2954.2000  2985.9299  2901.5400  2972.3701  6.552140e+09\n",
       "...               ...        ...        ...        ...           ...\n",
       "2000-01-07  1403.4500  1441.4700  1400.7300  1441.4700  1.225200e+09\n",
       "2000-01-06  1402.1100  1411.9000  1392.1000  1403.4500  1.092300e+09\n",
       "2000-01-05  1399.4200  1413.2700  1377.6801  1402.1100  1.085500e+09\n",
       "2000-01-04  1455.2200  1455.2200  1397.4301  1399.4200  1.009000e+09\n",
       "2000-01-03  1469.2500  1478.0000  1438.3600  1455.2200  9.318000e+08\n",
       "\n",
       "[5080 rows x 5 columns]"
      ]
     },
     "execution_count": 324,
     "metadata": {},
     "output_type": "execute_result"
    }
   ],
   "source": [
    "data"
   ]
  },
  {
   "cell_type": "code",
   "execution_count": 325,
   "metadata": {
    "scrolled": false
   },
   "outputs": [
    {
     "data": {
      "text/plain": [
       "array([[0.72249436, 0.72850181, 0.66815756, 0.6658166 , 0.76335026],\n",
       "       [0.79458905, 0.78952288, 0.75235982, 0.76204412, 0.63224674],\n",
       "       [0.79010207, 0.81064397, 0.7622343 , 0.81402561, 0.65583649],\n",
       "       ...,\n",
       "       [0.26660299, 0.2660984 , 0.26212374, 0.26777926, 0.06571347],\n",
       "       [0.28726071, 0.28164551, 0.26940608, 0.2667865 , 0.05882167],\n",
       "       [0.29245475, 0.29008802, 0.28449801, 0.28737979, 0.05186682]])"
      ]
     },
     "execution_count": 325,
     "metadata": {},
     "output_type": "execute_result"
    }
   ],
   "source": [
    "# Normalize the data\n",
    "scaler = preprocessing.MinMaxScaler()\n",
    "data = scaler.fit_transform(data)\n",
    "data"
   ]
  },
  {
   "cell_type": "code",
   "execution_count": null,
   "metadata": {},
   "outputs": [],
   "source": []
  },
  {
   "cell_type": "code",
   "execution_count": null,
   "metadata": {},
   "outputs": [],
   "source": [
    "# Use sklearn to split dataset\n",
    "from sklearn.model_selection import train_test_split\n",
    "X_train, X_test, y_train, y_test = train_test_split(X, y,shuffle=False, random_state=42)"
   ]
  },
  {
   "cell_type": "code",
   "execution_count": 275,
   "metadata": {
    "scrolled": false
   },
   "outputs": [
    {
     "ename": "IndexError",
     "evalue": "only integers, slices (`:`), ellipsis (`...`), numpy.newaxis (`None`) and integer or boolean arrays are valid indices",
     "output_type": "error",
     "traceback": [
      "\u001b[0;31m---------------------------------------------------------------------------\u001b[0m",
      "\u001b[0;31mIndexError\u001b[0m                                Traceback (most recent call last)",
      "\u001b[0;32m<ipython-input-275-6d3a940ded84>\u001b[0m in \u001b[0;36m<module>\u001b[0;34m\u001b[0m\n\u001b[0;32m----> 1\u001b[0;31m \u001b[0mdata\u001b[0m\u001b[0;34m[\u001b[0m\u001b[0;34m'4. close'\u001b[0m\u001b[0;34m]\u001b[0m\u001b[0;34m.\u001b[0m\u001b[0mplot\u001b[0m\u001b[0;34m(\u001b[0m\u001b[0;34m)\u001b[0m\u001b[0;34m\u001b[0m\u001b[0;34m\u001b[0m\u001b[0m\n\u001b[0m\u001b[1;32m      2\u001b[0m \u001b[0mplt\u001b[0m\u001b[0;34m.\u001b[0m\u001b[0mtitle\u001b[0m\u001b[0;34m(\u001b[0m\u001b[0;34m'Stock price'\u001b[0m\u001b[0;34m)\u001b[0m\u001b[0;34m\u001b[0m\u001b[0;34m\u001b[0m\u001b[0m\n\u001b[1;32m      3\u001b[0m \u001b[0mplt\u001b[0m\u001b[0;34m.\u001b[0m\u001b[0mshow\u001b[0m\u001b[0;34m(\u001b[0m\u001b[0;34m)\u001b[0m\u001b[0;34m\u001b[0m\u001b[0;34m\u001b[0m\u001b[0m\n",
      "\u001b[0;31mIndexError\u001b[0m: only integers, slices (`:`), ellipsis (`...`), numpy.newaxis (`None`) and integer or boolean arrays are valid indices"
     ]
    }
   ],
   "source": [
    "# using the last {history_points} open high low close volume data points, predict the next open value\n",
    "\n",
    "#number_of_data = 100\n",
    "\n",
    "##open_price = np.array([data[:,0][i + number_of_data].copy() for i in range(len(data) - number_of_data)])\n",
    "#open_price = np.expand_dims(open_price , -1)\n",
    "\n",
    "#next_day_open_values = np.array([data[:,0][i + history_points].copy() for i in range(len(data) - history_points)])\n",
    "#next_day_open_values = np.expand_dims(next_day_open_values_normalised, -1)\n",
    "\n",
    "#y_normaliser = preprocessing.MinMaxScaler()\n",
    "#y_normaliser.fit(np.expand_dims( next_day_open_values ))"
   ]
  },
  {
   "cell_type": "code",
   "execution_count": 269,
   "metadata": {},
   "outputs": [
    {
     "ename": "IndexError",
     "evalue": "only integers, slices (`:`), ellipsis (`...`), numpy.newaxis (`None`) and integer or boolean arrays are valid indices",
     "output_type": "error",
     "traceback": [
      "\u001b[0;31m---------------------------------------------------------------------------\u001b[0m",
      "\u001b[0;31mIndexError\u001b[0m                                Traceback (most recent call last)",
      "\u001b[0;32m<ipython-input-269-a0284c37a618>\u001b[0m in \u001b[0;36m<module>\u001b[0;34m\u001b[0m\n\u001b[0;32m----> 1\u001b[0;31m \u001b[0my\u001b[0m\u001b[0;34m=\u001b[0m\u001b[0mdata\u001b[0m\u001b[0;34m[\u001b[0m\u001b[0;34m'4. close'\u001b[0m\u001b[0;34m]\u001b[0m\u001b[0;34m\u001b[0m\u001b[0;34m\u001b[0m\u001b[0m\n\u001b[0m\u001b[1;32m      2\u001b[0m \u001b[0mX\u001b[0m\u001b[0;34m=\u001b[0m\u001b[0mdata\u001b[0m\u001b[0;34m.\u001b[0m\u001b[0mdrop\u001b[0m\u001b[0;34m(\u001b[0m\u001b[0mcolumns\u001b[0m\u001b[0;34m=\u001b[0m\u001b[0;34m\"4. close\"\u001b[0m\u001b[0;34m)\u001b[0m\u001b[0;34m\u001b[0m\u001b[0;34m\u001b[0m\u001b[0m\n",
      "\u001b[0;31mIndexError\u001b[0m: only integers, slices (`:`), ellipsis (`...`), numpy.newaxis (`None`) and integer or boolean arrays are valid indices"
     ]
    }
   ],
   "source": [
    "y=data['4. close']\n",
    "X=data.drop(columns=\"4. close\")"
   ]
  },
  {
   "cell_type": "code",
   "execution_count": 255,
   "metadata": {},
   "outputs": [],
   "source": [
    "# Use sklearn to split dataset\n",
    "from sklearn.model_selection import train_test_split\n",
    "X_train, X_test, y_train, y_test = train_test_split(X, y,shuffle=False, random_state=42)\n",
    "\n"
   ]
  },
  {
   "cell_type": "code",
   "execution_count": 242,
   "metadata": {},
   "outputs": [],
   "source": []
  },
  {
   "cell_type": "code",
   "execution_count": null,
   "metadata": {},
   "outputs": [],
   "source": [
    "# Define the model - deep neural net\n",
    "number_input_features = len(X_train_scaled[0])\n",
    "hidden_nodes_layer1 =  1024\n",
    "hidden_nodes_layer2 = 512\n",
    "hidden_nodes_layer3 =  256\n",
    "hidden_nodes_layer4 = 128\n",
    "\n",
    "nn = tf.keras.models.Sequential()\n",
    "\n",
    "# First hidden layer\n",
    "nn.add(tf.keras.layers.Dense(units=hidden_nodes_layer1, input_dim=number_input_features, activation=\"relu\"))\n",
    "\n",
    "# Second hidden layer\n",
    "nn.add(tf.keras.layers.Dense(units=hidden_nodes_layer2, activation=\"relu\"))\n",
    "\n",
    "\n",
    "# Thrid hidden layer\n",
    "nn.add(tf.keras.layers.Dense(units=hidden_nodes_layer3, activation=\"relu\"))\n",
    "\n",
    "# Fourth hidden layer\n",
    "nn.add(tf.keras.layers.Dense(units=hidden_nodes_layer4, activation=\"relu\"))\n",
    "\n",
    "\n",
    "# Output layer\n",
    "nn.add(tf.keras.layers.Dense(units=1, activation=\"sigmoid\"))\n",
    "\n",
    "#Compile the sequential model together and customize metrics\n",
    "nn.compile(loss=\"mse\", optimizer= \"adam\", metrics=[\"accuracy\"])\n",
    "\n",
    "#Train the model\n",
    "fit_model =nn.fit(X_train_scaled, y_train.values, epochs=50)\n",
    "\n",
    "# Check the structure of the model\n",
    "nn.summary()\n",
    "\n",
    "#Evaluate the model using test data\n",
    "model_loss, model_accuracy = nn.evaluate(X_test_scaled, y_test.values,verbose=2)\n",
    "print(f\"Loss: {model_loss}, Accuracy: {model_accuracy}\")"
   ]
  },
  {
   "cell_type": "code",
   "execution_count": null,
   "metadata": {},
   "outputs": [],
   "source": [
    "y_pred = nn.predict(X_test_scaled)\n",
    "y_test"
   ]
  },
  {
   "cell_type": "code",
   "execution_count": null,
   "metadata": {},
   "outputs": [],
   "source": [
    "import matplotlib.pyplot as plt\n",
    "plt.gcf().set_size_inches(22, 15, forward=True)\n",
    "\n",
    "start = 0\n",
    "end = -1\n",
    "\n",
    "real = plt.plot(y_test[start:end], label='real')\n",
    "pred = plt.plot(y_pred[start:end], label='predicted')\n",
    "\n",
    "plt.legend(['real' 'Predicted'])\n",
    "\n",
    "plt.show()"
   ]
  },
  {
   "cell_type": "code",
   "execution_count": null,
   "metadata": {},
   "outputs": [],
   "source": []
  }
 ],
 "metadata": {
  "kernelspec": {
   "display_name": "PythonData",
   "language": "python",
   "name": "pythondata"
  },
  "language_info": {
   "codemirror_mode": {
    "name": "ipython",
    "version": 3
   },
   "file_extension": ".py",
   "mimetype": "text/x-python",
   "name": "python",
   "nbconvert_exporter": "python",
   "pygments_lexer": "ipython3",
   "version": "3.7.6"
  }
 },
 "nbformat": 4,
 "nbformat_minor": 2
}
