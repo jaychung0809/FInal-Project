{
 "cells": [
  {
   "cell_type": "code",
   "execution_count": 462,
   "metadata": {},
   "outputs": [],
   "source": [
    "from alpha_vantage.timeseries import TimeSeries\n",
    "import matplotlib.pyplot as plt\n",
    "plt.style.use()\n",
    "import sklearn as skl\n",
    "from sklearn import preprocessing\n",
    "import numpy as np\n",
    "import tensorflow as tf\n",
    "import pandas as pd\n",
    "from keras.models import Sequential\n",
    "from keras.layers import Dense, LSTM\n",
    "\n"
   ]
  },
  {
   "cell_type": "code",
   "execution_count": 463,
   "metadata": {},
   "outputs": [],
   "source": [
    "ts = TimeSeries(key='AJH8MF4OQ465LD6H',output_format='pandas')\n",
    "data, meta_data = ts.get_daily(symbol='INX', outputsize='full')\n"
   ]
  },
  {
   "cell_type": "code",
   "execution_count": 464,
   "metadata": {},
   "outputs": [
    {
     "data": {
      "text/html": [
       "<div>\n",
       "<style scoped>\n",
       "    .dataframe tbody tr th:only-of-type {\n",
       "        vertical-align: middle;\n",
       "    }\n",
       "\n",
       "    .dataframe tbody tr th {\n",
       "        vertical-align: top;\n",
       "    }\n",
       "\n",
       "    .dataframe thead th {\n",
       "        text-align: right;\n",
       "    }\n",
       "</style>\n",
       "<table border=\"1\" class=\"dataframe\">\n",
       "  <thead>\n",
       "    <tr style=\"text-align: right;\">\n",
       "      <th></th>\n",
       "      <th>1. open</th>\n",
       "      <th>2. high</th>\n",
       "      <th>3. low</th>\n",
       "      <th>4. close</th>\n",
       "      <th>5. volume</th>\n",
       "    </tr>\n",
       "    <tr>\n",
       "      <th>date</th>\n",
       "      <th></th>\n",
       "      <th></th>\n",
       "      <th></th>\n",
       "      <th></th>\n",
       "      <th></th>\n",
       "    </tr>\n",
       "  </thead>\n",
       "  <tbody>\n",
       "    <tr>\n",
       "      <th>2020-03-13</th>\n",
       "      <td>2569.9900</td>\n",
       "      <td>2711.3301</td>\n",
       "      <td>2492.3701</td>\n",
       "      <td>2711.0200</td>\n",
       "      <td>8.258670e+09</td>\n",
       "    </tr>\n",
       "    <tr>\n",
       "      <th>2020-03-12</th>\n",
       "      <td>2630.8601</td>\n",
       "      <td>2660.9500</td>\n",
       "      <td>2478.8601</td>\n",
       "      <td>2480.6399</td>\n",
       "      <td>8.829380e+09</td>\n",
       "    </tr>\n",
       "    <tr>\n",
       "      <th>2020-03-11</th>\n",
       "      <td>2825.6001</td>\n",
       "      <td>2825.6001</td>\n",
       "      <td>2707.2200</td>\n",
       "      <td>2741.3799</td>\n",
       "      <td>7.374110e+09</td>\n",
       "    </tr>\n",
       "    <tr>\n",
       "      <th>2020-03-10</th>\n",
       "      <td>2813.4800</td>\n",
       "      <td>2882.5901</td>\n",
       "      <td>2734.0000</td>\n",
       "      <td>2882.2300</td>\n",
       "      <td>7.635960e+09</td>\n",
       "    </tr>\n",
       "    <tr>\n",
       "      <th>2020-03-09</th>\n",
       "      <td>2863.8899</td>\n",
       "      <td>2863.8899</td>\n",
       "      <td>2734.4299</td>\n",
       "      <td>2746.5601</td>\n",
       "      <td>8.423050e+09</td>\n",
       "    </tr>\n",
       "    <tr>\n",
       "      <th>...</th>\n",
       "      <td>...</td>\n",
       "      <td>...</td>\n",
       "      <td>...</td>\n",
       "      <td>...</td>\n",
       "      <td>...</td>\n",
       "    </tr>\n",
       "    <tr>\n",
       "      <th>2000-01-07</th>\n",
       "      <td>1403.4500</td>\n",
       "      <td>1441.4700</td>\n",
       "      <td>1400.7300</td>\n",
       "      <td>1441.4700</td>\n",
       "      <td>1.225200e+09</td>\n",
       "    </tr>\n",
       "    <tr>\n",
       "      <th>2000-01-06</th>\n",
       "      <td>1402.1100</td>\n",
       "      <td>1411.9000</td>\n",
       "      <td>1392.1000</td>\n",
       "      <td>1403.4500</td>\n",
       "      <td>1.092300e+09</td>\n",
       "    </tr>\n",
       "    <tr>\n",
       "      <th>2000-01-05</th>\n",
       "      <td>1399.4200</td>\n",
       "      <td>1413.2700</td>\n",
       "      <td>1377.6801</td>\n",
       "      <td>1402.1100</td>\n",
       "      <td>1.085500e+09</td>\n",
       "    </tr>\n",
       "    <tr>\n",
       "      <th>2000-01-04</th>\n",
       "      <td>1455.2200</td>\n",
       "      <td>1455.2200</td>\n",
       "      <td>1397.4301</td>\n",
       "      <td>1399.4200</td>\n",
       "      <td>1.009000e+09</td>\n",
       "    </tr>\n",
       "    <tr>\n",
       "      <th>2000-01-03</th>\n",
       "      <td>1469.2500</td>\n",
       "      <td>1478.0000</td>\n",
       "      <td>1438.3600</td>\n",
       "      <td>1455.2200</td>\n",
       "      <td>9.318000e+08</td>\n",
       "    </tr>\n",
       "  </tbody>\n",
       "</table>\n",
       "<p>5081 rows × 5 columns</p>\n",
       "</div>"
      ],
      "text/plain": [
       "              1. open    2. high     3. low   4. close     5. volume\n",
       "date                                                                \n",
       "2020-03-13  2569.9900  2711.3301  2492.3701  2711.0200  8.258670e+09\n",
       "2020-03-12  2630.8601  2660.9500  2478.8601  2480.6399  8.829380e+09\n",
       "2020-03-11  2825.6001  2825.6001  2707.2200  2741.3799  7.374110e+09\n",
       "2020-03-10  2813.4800  2882.5901  2734.0000  2882.2300  7.635960e+09\n",
       "2020-03-09  2863.8899  2863.8899  2734.4299  2746.5601  8.423050e+09\n",
       "...               ...        ...        ...        ...           ...\n",
       "2000-01-07  1403.4500  1441.4700  1400.7300  1441.4700  1.225200e+09\n",
       "2000-01-06  1402.1100  1411.9000  1392.1000  1403.4500  1.092300e+09\n",
       "2000-01-05  1399.4200  1413.2700  1377.6801  1402.1100  1.085500e+09\n",
       "2000-01-04  1455.2200  1455.2200  1397.4301  1399.4200  1.009000e+09\n",
       "2000-01-03  1469.2500  1478.0000  1438.3600  1455.2200  9.318000e+08\n",
       "\n",
       "[5081 rows x 5 columns]"
      ]
     },
     "execution_count": 464,
     "metadata": {},
     "output_type": "execute_result"
    }
   ],
   "source": [
    "data"
   ]
  },
  {
   "cell_type": "code",
   "execution_count": 465,
   "metadata": {},
   "outputs": [
    {
     "data": {
      "text/plain": [
       "4064"
      ]
     },
     "execution_count": 465,
     "metadata": {},
     "output_type": "execute_result"
    }
   ],
   "source": [
    "#Create Dataframe with only open values\n",
    "data= data.filter(['1. open'])\n",
    "\n",
    "#convert the data to numpy array\n",
    "dataset = data.values\n",
    "\n",
    "#Get number of rows to train model\n",
    "\n",
    "training_data_len = int(len(dataset) * 0.8)\n",
    "training_data_len"
   ]
  },
  {
   "cell_type": "code",
   "execution_count": 466,
   "metadata": {},
   "outputs": [
    {
     "data": {
      "text/plain": [
       "array([[0.69995965],\n",
       "       [0.72249436],\n",
       "       [0.79458905],\n",
       "       ...,\n",
       "       [0.26660299],\n",
       "       [0.28726071],\n",
       "       [0.29245475]])"
      ]
     },
     "execution_count": 466,
     "metadata": {},
     "output_type": "execute_result"
    }
   ],
   "source": [
    "# Normalize the data\n",
    "scaler = preprocessing.MinMaxScaler(feature_range=(0,1))\n",
    "scaled_data = scaler.fit_transform(dataset)\n",
    "scaled_data"
   ]
  },
  {
   "cell_type": "code",
   "execution_count": 473,
   "metadata": {},
   "outputs": [
    {
     "name": "stdout",
     "output_type": "stream",
     "text": [
      "[0.9271352413953953]\n",
      "[array([0.69995965, 0.72249436, 0.79458905, 0.79010207, 0.80876431,\n",
      "       0.84219801, 0.88717852, 0.87609073, 0.89486408, 0.84963183,\n",
      "       0.82838914, 0.88230656, 0.91094596, 0.94761155, 0.95452345,\n",
      "       0.99261431, 1.        , 0.99997775, 0.9957759 , 0.99912264,\n",
      "       0.99461341, 0.99631641, 0.99460238, 0.97698405, 0.98337387,\n",
      "       0.9868464 , 0.9794385 , 0.96303828, 0.94639726, 0.96367504,\n",
      "       0.95409397, 0.9663146 , 0.95368677, 0.95065468, 0.9824706 ,\n",
      "       0.97605482, 0.98133031, 0.97800213, 0.97897574, 0.97131613,\n",
      "       0.96365279, 0.96479307, 0.95952861, 0.96348253, 0.95764058,\n",
      "       0.94748205, 0.94869264, 0.9396928 , 0.94295439, 0.94973286,\n",
      "       0.93881537, 0.94803737, 0.95068063, 0.94326533, 0.94261746,\n",
      "       0.94283958, 0.94183265, 0.93035244, 0.93142231, 0.93149261])]\n"
     ]
    }
   ],
   "source": [
    "#create the training data set\n",
    "#create the scaled training data\n",
    "train_data = scaled_data[0:training_data_len,:]\n",
    "\n",
    "#split data into x and y train\n",
    "\n",
    "X_train = []\n",
    "y_train = []\n",
    "\n",
    "\n",
    " # Create X parameter for the past 100 prices, y will be the output for the 60 values in corresponding X\n",
    "for i in range(100, len(train_data)):\n",
    "    X_train.append(train_data[i-100: i,0])\n",
    "    y_train.append(train_data[i,0])"
   ]
  },
  {
   "cell_type": "code",
   "execution_count": 474,
   "metadata": {},
   "outputs": [],
   "source": [
    "# convert training data to numpy arrays for LSTM mode\n",
    "X_train, y_train = np.array(X_train), np.array(y_train)"
   ]
  },
  {
   "cell_type": "code",
   "execution_count": 481,
   "metadata": {},
   "outputs": [
    {
     "data": {
      "text/plain": [
       "(4004, 60, 1)"
      ]
     },
     "execution_count": 481,
     "metadata": {},
     "output_type": "execute_result"
    }
   ],
   "source": [
    "# reshape into 3D from 2D for LSTM model\n",
    "X_train =np.reshape(X_train, (X_train.shape[0],X_train.shape[1],1))\n",
    "X_train.shape"
   ]
  },
  {
   "cell_type": "code",
   "execution_count": 483,
   "metadata": {},
   "outputs": [
    {
     "ename": "NameError",
     "evalue": "name 'Sequential' is not defined",
     "output_type": "error",
     "traceback": [
      "\u001b[0;31m---------------------------------------------------------------------------\u001b[0m",
      "\u001b[0;31mNameError\u001b[0m                                 Traceback (most recent call last)",
      "\u001b[0;32m<ipython-input-483-847a24043e65>\u001b[0m in \u001b[0;36m<module>\u001b[0;34m\u001b[0m\n\u001b[1;32m      1\u001b[0m \u001b[0;31m#Build LSTM Model\u001b[0m\u001b[0;34m\u001b[0m\u001b[0;34m\u001b[0m\u001b[0;34m\u001b[0m\u001b[0m\n\u001b[1;32m      2\u001b[0m \u001b[0;34m\u001b[0m\u001b[0m\n\u001b[0;32m----> 3\u001b[0;31m \u001b[0mmodel\u001b[0m \u001b[0;34m=\u001b[0m \u001b[0mSequential\u001b[0m\u001b[0;34m\u001b[0m\u001b[0;34m\u001b[0m\u001b[0m\n\u001b[0m\u001b[1;32m      4\u001b[0m \u001b[0;34m\u001b[0m\u001b[0m\n\u001b[1;32m      5\u001b[0m \u001b[0;34m\u001b[0m\u001b[0m\n",
      "\u001b[0;31mNameError\u001b[0m: name 'Sequential' is not defined"
     ]
    }
   ],
   "source": [
    "#Build LSTM Model\n",
    "\n",
    "model = Sequential\n",
    "\n",
    "\n",
    "model.add(LSTM(100,return_sequence=True, input_shape = (X_train.shape[1],1)))\n",
    "\n",
    "model.add(LSTM(50, return_sequences = False))\n",
    "\n",
    "model.add(Dense(25))\n",
    "\n",
    "model.add(Dense(1))"
   ]
  },
  {
   "cell_type": "code",
   "execution_count": null,
   "metadata": {},
   "outputs": [],
   "source": []
  }
 ],
 "metadata": {
  "kernelspec": {
   "display_name": "PythonData",
   "language": "python",
   "name": "pythondata"
  },
  "language_info": {
   "codemirror_mode": {
    "name": "ipython",
    "version": 3
   },
   "file_extension": ".py",
   "mimetype": "text/x-python",
   "name": "python",
   "nbconvert_exporter": "python",
   "pygments_lexer": "ipython3",
   "version": "3.7.6"
  }
 },
 "nbformat": 4,
 "nbformat_minor": 2
}
